{
 "cells": [
  {
   "cell_type": "markdown",
   "metadata": {
    "collapsed": true
   },
   "source": [
    "# Approximation of Hodgkin-Huxley equations"
   ]
  },
  {
   "cell_type": "markdown",
   "metadata": {},
   "source": [
    "## XPAUT Code\n",
    "\n",
    "The code to simulate the system in XPAUT is shown below.\n",
    "\n",
    "    # Simplified Hodgkin and Huxley equations simulation\n",
    "    # Created by Lucas van Dijk.\n",
    "\n",
    "    par C=20\n",
    "    par V_na=120, V_k=-84, V_l=-60\n",
    "    par v1=-1.2, v2=18, v3=8, v4=30\n",
    "\n",
    "    par g_na=4.4, g_k=8, g_l=2\n",
    "    par I_app=0\n",
    "    par phi_n=25\n",
    "\n",
    "    m_inf(V)=(1/2)*(1+tanh((V-v1)/v2))\n",
    "    h_0 = 0.9\n",
    "\n",
    "    n_inf(V)=(1/2)*(1+tanh((V-v3)/v4))\n",
    "    tau_n(V)=phi_n*cosh((V-v3)/(2*v4))\n",
    "\n",
    "\n",
    "    dn/dt = (n_inf(V)-n)/(tau_n(V))\n",
    "    dV/dt = ((-g_na*(m_inf(V))^3*h_0*(V-V_na)) - (g_k*n^4*(V-V_k)) - (g_l*(V-V_l)) + I_app)/C\n",
    "\n",
    "    init V=60, n=-0.6\n",
    "\n",
    "    done\n",
    "    \n",
    "## Nullclines\n",
    "\n",
    "![System Nullclines](nullclines.png)\n",
    "\n",
    "## Trajectories\n",
    "\n",
    "![A few example trajectories](trajectories.png)\n",
    "\n",
    "## Time series plot\n",
    "\n",
    "Initial conditions: $V = 60$ mV, $n = -0.6$\n",
    "\n",
    "![Time series plot](time-simulation.png)\n",
    "\n",
    "\n"
   ]
  },
  {
   "cell_type": "markdown",
   "metadata": {},
   "source": [
    "## Stability Analysis with Python"
   ]
  },
  {
   "cell_type": "code",
   "execution_count": 1,
   "metadata": {
    "collapsed": false
   },
   "outputs": [
    {
     "ename": "ImportError",
     "evalue": "No module named 'sympy'",
     "output_type": "error",
     "traceback": [
      "\u001b[1;31m---------------------------------------------------------------------------\u001b[0m",
      "\u001b[1;31mImportError\u001b[0m                               Traceback (most recent call last)",
      "\u001b[1;32m<ipython-input-1-96d55c16250a>\u001b[0m in \u001b[0;36m<module>\u001b[1;34m()\u001b[0m\n\u001b[0;32m      1\u001b[0m \u001b[0mget_ipython\u001b[0m\u001b[1;33m(\u001b[0m\u001b[1;33m)\u001b[0m\u001b[1;33m.\u001b[0m\u001b[0mmagic\u001b[0m\u001b[1;33m(\u001b[0m\u001b[1;34m'matplotlib inline'\u001b[0m\u001b[1;33m)\u001b[0m\u001b[1;33m\u001b[0m\u001b[0m\n\u001b[1;32m----> 2\u001b[1;33m \u001b[1;32mfrom\u001b[0m \u001b[0msympy\u001b[0m \u001b[1;32mimport\u001b[0m \u001b[0mFunction\u001b[0m\u001b[1;33m,\u001b[0m \u001b[0mDerivative\u001b[0m\u001b[1;33m,\u001b[0m \u001b[0msymbols\u001b[0m\u001b[1;33m,\u001b[0m \u001b[0mtanh\u001b[0m\u001b[1;33m,\u001b[0m \u001b[0mcosh\u001b[0m\u001b[1;33m,\u001b[0m \u001b[0mSymbol\u001b[0m\u001b[1;33m,\u001b[0m \u001b[0minit_printing\u001b[0m\u001b[1;33m,\u001b[0m \u001b[0mEq\u001b[0m\u001b[1;33m\u001b[0m\u001b[0m\n\u001b[0m\u001b[0;32m      3\u001b[0m \u001b[1;32mimport\u001b[0m \u001b[0mnumpy\u001b[0m \u001b[1;32mas\u001b[0m \u001b[0mnp\u001b[0m\u001b[1;33m\u001b[0m\u001b[0m\n\u001b[0;32m      4\u001b[0m \u001b[1;33m\u001b[0m\u001b[0m\n\u001b[0;32m      5\u001b[0m \u001b[1;33m\u001b[0m\u001b[0m\n",
      "\u001b[1;31mImportError\u001b[0m: No module named 'sympy'"
     ]
    }
   ],
   "source": [
    "%matplotlib inline\n",
    "from sympy import Function, Derivative, symbols, tanh, cosh, Symbol, init_printing, Eq\n",
    "import numpy as np\n",
    "\n",
    "\n",
    "init_printing()"
   ]
  },
  {
   "cell_type": "code",
   "execution_count": null,
   "metadata": {
    "collapsed": true
   },
   "outputs": [],
   "source": [
    "# System parameters\n",
    "\n",
    "v1 = -1.2  # mV\n",
    "v2 = 18  # mV\n",
    "v3 = 8  # mV\n",
    "v4 = 30  # mV\n",
    "\n",
    "V_k = -84  # mV\n",
    "V_na = 120  # mV\n",
    "V_l = -60  # mV\n",
    "\n",
    "g_k = 8  # mS/cm^2\n",
    "g_na = 4.4  # ms/cm^2\n",
    "g_l = 2  # mS/cm^2\n",
    "\n",
    "C = 20  # uF/cm^2\n",
    "phi_n = 25  # ms\n",
    "h0 = 0.9\n"
   ]
  },
  {
   "cell_type": "code",
   "execution_count": null,
   "metadata": {
    "collapsed": false
   },
   "outputs": [],
   "source": [
    "t = Symbol('t')\n",
    "V = Function('V')(t)\n",
    "n = Function('n')(t)"
   ]
  },
  {
   "cell_type": "markdown",
   "metadata": {},
   "source": [
    "### Define functions"
   ]
  },
  {
   "cell_type": "code",
   "execution_count": null,
   "metadata": {
    "collapsed": false
   },
   "outputs": [],
   "source": [
    "m_inf = (1 + tanh((V - v1)/v2))/2\n",
    "m_inf"
   ]
  },
  {
   "cell_type": "code",
   "execution_count": null,
   "metadata": {
    "collapsed": false
   },
   "outputs": [],
   "source": [
    "n_inf = (1 + tanh((V - v3)/v4))/2\n",
    "n_inf\n"
   ]
  },
  {
   "cell_type": "code",
   "execution_count": null,
   "metadata": {
    "collapsed": false
   },
   "outputs": [],
   "source": [
    "tau_n = phi_n*cosh((V - v3)/(2*v4))\n",
    "tau_n\n"
   ]
  },
  {
   "cell_type": "markdown",
   "metadata": {},
   "source": [
    "### Differential Equations"
   ]
  },
  {
   "cell_type": "code",
   "execution_count": null,
   "metadata": {
    "collapsed": false
   },
   "outputs": [],
   "source": [
    "# Differential equation for V(t)\n",
    "eq1 = Eq(C*V.diff(t), -g_na * (m_inf)**3 * h0 * (V - V_na) - g_k* n**4 * (V - V_k) - g_l*(V - V_l))\n",
    "eq1"
   ]
  },
  {
   "cell_type": "code",
   "execution_count": null,
   "metadata": {
    "collapsed": false
   },
   "outputs": [],
   "source": [
    "# Differential Equation for n(t)\n",
    "eq2 = Eq(n.diff(t), (n_inf - n)/tau_n)\n",
    "eq2"
   ]
  },
  {
   "cell_type": "markdown",
   "metadata": {},
   "source": [
    "### Functions used to calculate the Jacobian"
   ]
  },
  {
   "cell_type": "code",
   "execution_count": null,
   "metadata": {
    "collapsed": true
   },
   "outputs": [],
   "source": [
    "f = (-g_na * (m_inf)**3 * h0 * (V - V_na) - g_k* n**4 * (V - V_k) - g_l*(V - V_l))/C\n",
    "g = (n_inf - n)/tau_n"
   ]
  },
  {
   "cell_type": "code",
   "execution_count": null,
   "metadata": {
    "collapsed": false
   },
   "outputs": [],
   "source": [
    "f.diff(V)"
   ]
  },
  {
   "cell_type": "code",
   "execution_count": null,
   "metadata": {
    "collapsed": false
   },
   "outputs": [],
   "source": [
    "f.diff(n)"
   ]
  },
  {
   "cell_type": "code",
   "execution_count": null,
   "metadata": {
    "collapsed": false
   },
   "outputs": [],
   "source": [
    "g.diff(V)"
   ]
  },
  {
   "cell_type": "code",
   "execution_count": null,
   "metadata": {
    "collapsed": false
   },
   "outputs": [],
   "source": [
    "g.diff(n)"
   ]
  },
  {
   "cell_type": "markdown",
   "metadata": {},
   "source": [
    "### Calculate the Jacobian for all steady states\n",
    "\n",
    "And also determine its eigenvalues."
   ]
  },
  {
   "cell_type": "code",
   "execution_count": null,
   "metadata": {
    "collapsed": false
   },
   "outputs": [],
   "source": [
    "steady_states = [\n",
    "    (0, -60),\n",
    "    (0.5, 10),\n",
    "    (0.6, 14.5)\n",
    "]\n",
    "\n",
    "for steady_state in steady_states:\n",
    "    j11 = float(f.diff(V).evalf(subs={V: steady_state[1], n: steady_state[0]}))\n",
    "    j12 = float(f.diff(n).evalf(subs={V: steady_state[1], n: steady_state[0]}))\n",
    "    j21 = float(g.diff(V).evalf(subs={V: steady_state[1], n: steady_state[0]}))\n",
    "    j22 = float(g.diff(n).evalf(subs={V: steady_state[1], n: steady_state[0]}))\n",
    "    \n",
    "    jacobian = np.array([\n",
    "        [j11, j12],\n",
    "        [j21, j22]\n",
    "    ])\n",
    "    \n",
    "    print(\"Steady state at n={}, V={}\".format(*steady_state))\n",
    "    print(\"=\"*20)\n",
    "    print(\"[-] Jacobian:\")\n",
    "    print(jacobian)\n",
    "    \n",
    "    print(\"[-] Eigenvalues\")\n",
    "    eigen_values = np.linalg.eig(jacobian)\n",
    "    print(eigen_values[0])"
   ]
  },
  {
   "cell_type": "markdown",
   "metadata": {
    "collapsed": true
   },
   "source": [
    "Only the first steady state is stable (for both eigenvalues the real part is negative)."
   ]
  },
  {
   "cell_type": "code",
   "execution_count": null,
   "metadata": {
    "collapsed": true
   },
   "outputs": [],
   "source": []
  }
 ],
 "metadata": {
  "kernelspec": {
   "display_name": "Python 3",
   "language": "python",
   "name": "python3"
  },
  "language_info": {
   "codemirror_mode": {
    "name": "ipython",
    "version": 3
   },
   "file_extension": ".py",
   "mimetype": "text/x-python",
   "name": "python",
   "nbconvert_exporter": "python",
   "pygments_lexer": "ipython3",
   "version": "3.5.1"
  }
 },
 "nbformat": 4,
 "nbformat_minor": 0
}
