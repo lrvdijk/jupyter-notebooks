{
 "cells": [
  {
   "cell_type": "markdown",
   "metadata": {
    "collapsed": true
   },
   "source": [
    "# Approximation of Hodgkin-Huxley equations"
   ]
  },
  {
   "cell_type": "code",
   "execution_count": 41,
   "metadata": {
    "collapsed": true
   },
   "outputs": [],
   "source": [
    "%matplotlib inline\n",
    "from sympy import Function, Derivative, symbols, tanh, cosh, Symbol, init_printing, Eq\n",
    "import numpy as np\n",
    "\n",
    "\n",
    "init_printing()"
   ]
  },
  {
   "cell_type": "code",
   "execution_count": 19,
   "metadata": {
    "collapsed": true
   },
   "outputs": [],
   "source": [
    "v1 = -1.2  # mV\n",
    "v2 = 18  # mV\n",
    "v3 = 8  # mV\n",
    "v4 = 30  # mV\n",
    "\n",
    "V_k = -84  # mV\n",
    "V_na = 120  # mV\n",
    "V_l = -60  # mV\n",
    "\n",
    "g_k = 8  # mS/cm^2\n",
    "g_na = 4.4  # ms/cm^2\n",
    "g_l = 2  # mS/cm^2\n",
    "\n",
    "C = 20  # uF/cm^2\n",
    "phi_n = 25  # ms\n",
    "h0 = 0.9\n"
   ]
  },
  {
   "cell_type": "code",
   "execution_count": 38,
   "metadata": {
    "collapsed": false
   },
   "outputs": [],
   "source": [
    "t = Symbol('t')\n",
    "V = Function('V')(t)\n",
    "n = Function('n')(t)"
   ]
  },
  {
   "cell_type": "code",
   "execution_count": 39,
   "metadata": {
    "collapsed": false
   },
   "outputs": [
    {
     "data": {
      "image/png": "[encoded data removed]",
      "text/latex": [
       "$$\\frac{1}{2} \\tanh{\\left (\\frac{1}{18} V{\\left (t \\right )} + 0.0666666666666667 \\right )} + \\frac{1}{2}$$"
      ],
      "text/plain": [
       "    ⎛V(t)                     ⎞    \n",
       "tanh⎜──── + 0.0666666666666667⎟    \n",
       "    ⎝ 18                      ⎠   1\n",
       "─────────────────────────────── + ─\n",
       "               2                  2"
      ]
     },
     "execution_count": 39,
     "metadata": {},
     "output_type": "execute_result"
    }
   ],
   "source": [
    "m_inf = (1 + tanh((V - v1)/v2))/2\n",
    "m_inf"
   ]
  },
  {
   "cell_type": "code",
   "execution_count": 12,
   "metadata": {
    "collapsed": false
   },
   "outputs": [
    {
     "data": {
      "image/png": "[encoded data removed]",
      "text/latex": [
       "$$\\frac{1}{2} \\tanh{\\left (\\frac{1}{30} V{\\left (t \\right )} - \\frac{4}{15} \\right )} + \\frac{1}{2}$$"
      ],
      "text/plain": [
       "    ⎛V(t)   4 ⎞    \n",
       "tanh⎜──── - ──⎟    \n",
       "    ⎝ 30    15⎠   1\n",
       "─────────────── + ─\n",
       "       2          2"
      ]
     },
     "execution_count": 12,
     "metadata": {},
     "output_type": "execute_result"
    }
   ],
   "source": [
    "n_inf = (1 + tanh((V - v3)/v4))/2\n",
    "n_inf\n"
   ]
  },
  {
   "cell_type": "code",
   "execution_count": 13,
   "metadata": {
    "collapsed": false
   },
   "outputs": [
    {
     "data": {
      "image/png": "[encoded data removed]",
      "text/latex": [
       "$$25 \\cosh{\\left (\\frac{1}{60} V{\\left (t \\right )} - \\frac{2}{15} \\right )}$$"
      ],
      "text/plain": [
       "       ⎛V(t)   2 ⎞\n",
       "25⋅cosh⎜──── - ──⎟\n",
       "       ⎝ 60    15⎠"
      ]
     },
     "execution_count": 13,
     "metadata": {},
     "output_type": "execute_result"
    }
   ],
   "source": [
    "tau_n = phi_n*cosh((V - v3)/(2*v4))\n",
    "tau_n\n"
   ]
  },
  {
   "cell_type": "code",
   "execution_count": 23,
   "metadata": {
    "collapsed": false
   },
   "outputs": [
    {
     "data": {
      "image/png": "[encoded data removed]",
      "text/latex": [
       "$$20 \\frac{d}{d t} V{\\left (t \\right )} = - 3.96 \\left(V{\\left (t \\right )} - 120\\right) \\left(\\frac{1}{2} \\tanh{\\left (\\frac{1}{18} V{\\left (t \\right )} + 0.0666666666666667 \\right )} + \\frac{1}{2}\\right)^{3} - 8 \\left(V{\\left (t \\right )} + 84\\right) n^{4}{\\left (t \\right )} - 2 V{\\left (t \\right )} - 120$$"
      ],
      "text/plain": [
       "                                                                       3      \n",
       "                                  ⎛    ⎛V(t)                     ⎞    ⎞       \n",
       "                                  ⎜tanh⎜──── + 0.0666666666666667⎟    ⎟       \n",
       "   d                              ⎜    ⎝ 18                      ⎠   1⎟       \n",
       "20⋅──(V(t)) = - 3.96⋅(V(t) - 120)⋅⎜─────────────────────────────── + ─⎟  - 8⋅(\n",
       "   dt                             ⎝               2                  2⎠       \n",
       "\n",
       "                               \n",
       "                               \n",
       "                               \n",
       "            4                  \n",
       "V(t) + 84)⋅n (t) - 2⋅V(t) - 120\n",
       "                               "
      ]
     },
     "execution_count": 23,
     "metadata": {},
     "output_type": "execute_result"
    }
   ],
   "source": [
    "eq1 = Eq(C*V.diff(t), -g_na * (m_inf)**3 * h0 * (V - V_na) - g_k* n**4 * (V - V_k) - g_l*(V - V_l))\n",
    "eq1"
   ]
  },
  {
   "cell_type": "code",
   "execution_count": 24,
   "metadata": {
    "collapsed": false
   },
   "outputs": [
    {
     "data": {
      "image/png": "[encoded data removed]",
      "text/latex": [
       "$$\\frac{d}{d t} n{\\left (t \\right )} = \\frac{- n{\\left (t \\right )} + \\frac{1}{2} \\tanh{\\left (\\frac{1}{30} V{\\left (t \\right )} - \\frac{4}{15} \\right )} + \\frac{1}{2}}{25 \\cosh{\\left (\\frac{1}{60} V{\\left (t \\right )} - \\frac{2}{15} \\right )}}$$"
      ],
      "text/plain": [
       "                       ⎛V(t)   4 ⎞    \n",
       "                   tanh⎜──── - ──⎟    \n",
       "                       ⎝ 30    15⎠   1\n",
       "           -n(t) + ─────────────── + ─\n",
       "d                         2          2\n",
       "──(n(t)) = ───────────────────────────\n",
       "dt                     ⎛V(t)   2 ⎞    \n",
       "                25⋅cosh⎜──── - ──⎟    \n",
       "                       ⎝ 60    15⎠    "
      ]
     },
     "execution_count": 24,
     "metadata": {},
     "output_type": "execute_result"
    }
   ],
   "source": [
    "eq2 = Eq(n.diff(t), (n_inf - n)/tau_n)\n",
    "eq2"
   ]
  },
  {
   "cell_type": "code",
   "execution_count": 25,
   "metadata": {
    "collapsed": true
   },
   "outputs": [],
   "source": [
    "f = (-g_na * (m_inf)**3 * h0 * (V - V_na) - g_k* n**4 * (V - V_k) - g_l*(V - V_l))/C\n",
    "g = (n_inf - n)/tau_n"
   ]
  },
  {
   "cell_type": "code",
   "execution_count": 26,
   "metadata": {
    "collapsed": false
   },
   "outputs": [
    {
     "data": {
      "image/png": "[encoded data removed]",
      "text/latex": [
       "$$- 0.198 \\left(V{\\left (t \\right )} - 120\\right) \\left(\\frac{1}{2} \\tanh{\\left (\\frac{1}{18} V{\\left (t \\right )} + 0.0666666666666667 \\right )} + \\frac{1}{2}\\right)^{2} \\left(- \\frac{1}{12} \\tanh^{2}{\\left (\\frac{1}{18} V{\\left (t \\right )} + 0.0666666666666667 \\right )} + \\frac{1}{12}\\right) - 0.198 \\left(\\frac{1}{2} \\tanh{\\left (\\frac{1}{18} V{\\left (t \\right )} + 0.0666666666666667 \\right )} + \\frac{1}{2}\\right)^{3} - \\frac{2}{5} n^{4}{\\left (t \\right )} - \\frac{1}{10}$$"
      ],
      "text/plain": [
       "                                                          2                   \n",
       "                     ⎛    ⎛V(t)                     ⎞    ⎞  ⎛      2⎛V(t)     \n",
       "                     ⎜tanh⎜──── + 0.0666666666666667⎟    ⎟  ⎜  tanh ⎜──── + 0.\n",
       "                     ⎜    ⎝ 18                      ⎠   1⎟  ⎜       ⎝ 18      \n",
       "- 0.198⋅(V(t) - 120)⋅⎜─────────────────────────────── + ─⎟ ⋅⎜- ───────────────\n",
       "                     ⎝               2                  2⎠  ⎝                 \n",
       "\n",
       "                                                                     3        \n",
       "                ⎞     ⎞         ⎛    ⎛V(t)                     ⎞    ⎞         \n",
       "0666666666666667⎟     ⎟         ⎜tanh⎜──── + 0.0666666666666667⎟    ⎟       4 \n",
       "                ⎠   1 ⎟         ⎜    ⎝ 18                      ⎠   1⎟    2⋅n (\n",
       "───────────────── + ──⎟ - 0.198⋅⎜─────────────────────────────── + ─⎟  - ─────\n",
       "12                  12⎠         ⎝               2                  2⎠       5 \n",
       "\n",
       "       \n",
       "       \n",
       "       \n",
       "t)   1 \n",
       "── - ──\n",
       "     10"
      ]
     },
     "execution_count": 26,
     "metadata": {},
     "output_type": "execute_result"
    }
   ],
   "source": [
    "f.diff(V)"
   ]
  },
  {
   "cell_type": "code",
   "execution_count": 27,
   "metadata": {
    "collapsed": false
   },
   "outputs": [
    {
     "data": {
      "image/png": "[encoded data removed]",
      "text/latex": [
       "$$- \\frac{8}{5} \\left(V{\\left (t \\right )} + 84\\right) n^{3}{\\left (t \\right )}$$"
      ],
      "text/plain": [
       "                3    \n",
       "-8⋅(V(t) + 84)⋅n (t) \n",
       "─────────────────────\n",
       "          5          "
      ]
     },
     "execution_count": 27,
     "metadata": {},
     "output_type": "execute_result"
    }
   ],
   "source": [
    "f.diff(n)"
   ]
  },
  {
   "cell_type": "code",
   "execution_count": 28,
   "metadata": {
    "collapsed": false
   },
   "outputs": [
    {
     "data": {
      "image/png": "[encoded data removed]",
      "text/latex": [
       "$$\\frac{- \\frac{1}{60} \\tanh^{2}{\\left (\\frac{1}{30} V{\\left (t \\right )} - \\frac{4}{15} \\right )} + \\frac{1}{60}}{25 \\cosh{\\left (\\frac{1}{60} V{\\left (t \\right )} - \\frac{2}{15} \\right )}} - \\frac{\\sinh{\\left (\\frac{1}{60} V{\\left (t \\right )} - \\frac{2}{15} \\right )}}{1500 \\cosh^{2}{\\left (\\frac{1}{60} V{\\left (t \\right )} - \\frac{2}{15} \\right )}} \\left(- n{\\left (t \\right )} + \\frac{1}{2} \\tanh{\\left (\\frac{1}{30} V{\\left (t \\right )} - \\frac{4}{15} \\right )} + \\frac{1}{2}\\right)$$"
      ],
      "text/plain": [
       "      2⎛V(t)   4 ⎞        ⎛            ⎛V(t)   4 ⎞    ⎞                \n",
       "  tanh ⎜──── - ──⎟        ⎜        tanh⎜──── - ──⎟    ⎟                \n",
       "       ⎝ 30    15⎠   1    ⎜            ⎝ 30    15⎠   1⎟     ⎛V(t)   2 ⎞\n",
       "- ──────────────── + ──   ⎜-n(t) + ─────────────── + ─⎟⋅sinh⎜──── - ──⎟\n",
       "         60          60   ⎝               2          2⎠     ⎝ 60    15⎠\n",
       "─────────────────────── - ─────────────────────────────────────────────\n",
       "          ⎛V(t)   2 ⎞                          2⎛V(t)   2 ⎞            \n",
       "   25⋅cosh⎜──── - ──⎟                 1500⋅cosh ⎜──── - ──⎟            \n",
       "          ⎝ 60    15⎠                           ⎝ 60    15⎠            "
      ]
     },
     "execution_count": 28,
     "metadata": {},
     "output_type": "execute_result"
    }
   ],
   "source": [
    "g.diff(V)"
   ]
  },
  {
   "cell_type": "code",
   "execution_count": 29,
   "metadata": {
    "collapsed": false
   },
   "outputs": [
    {
     "data": {
      "image/png": "[encoded data removed]",
      "text/latex": [
       "$$- \\frac{1}{25 \\cosh{\\left (\\frac{1}{60} V{\\left (t \\right )} - \\frac{2}{15} \\right )}}$$"
      ],
      "text/plain": [
       "       -1         \n",
       "──────────────────\n",
       "       ⎛V(t)   2 ⎞\n",
       "25⋅cosh⎜──── - ──⎟\n",
       "       ⎝ 60    15⎠"
      ]
     },
     "execution_count": 29,
     "metadata": {},
     "output_type": "execute_result"
    }
   ],
   "source": [
    "g.diff(n)"
   ]
  },
  {
   "cell_type": "code",
   "execution_count": 40,
   "metadata": {
    "collapsed": false
   },
   "outputs": [
    {
     "data": {
      "image/png": "[encoded data removed]",
      "text/latex": [
       "$$-0.0999999642883128$$"
      ],
      "text/plain": [
       "-0.0999999642883128"
      ]
     },
     "execution_count": 40,
     "metadata": {},
     "output_type": "execute_result"
    }
   ],
   "source": [
    "f.diff(V).evalf(subs={V: -60, n: 0})"
   ]
  },
  {
   "cell_type": "code",
   "execution_count": 48,
   "metadata": {
    "collapsed": false
   },
   "outputs": [
    {
     "name": "stdout",
     "output_type": "stream",
     "text": [
      "Steady state at n=0, V=-60\n",
      "====================\n",
      "[-] Jacobian:\n",
      "[[ -9.99999643e-02   0.00000000e+00]\n",
      " [  1.97217797e-05  -2.33375575e-02]]\n",
      "[-] Eigenvalues\n",
      "[-0.02333756 -0.09999996]\n",
      "Steady state at n=0.5, V=10\n",
      "====================\n",
      "[-] Jacobian:\n",
      "[[  5.42125615e-01  -1.88000000e+01]\n",
      " [  6.62604941e-04  -3.99777881e-02]]\n",
      "[-] Eigenvalues\n",
      "[ 0.51987518 -0.01772735]\n",
      "Steady state at n=0.6, V=14.5\n",
      "====================\n",
      "[-] Jacobian:\n",
      "[[  3.64912260e-01  -3.40416000e+01]\n",
      " [  6.32131583e-04  -3.97664201e-02]]\n",
      "[-] Eigenvalues\n",
      "[ 0.30193733  0.02320851]\n"
     ]
    }
   ],
   "source": [
    "steady_states = [\n",
    "    (0, -60),\n",
    "    (0.5, 10),\n",
    "    (0.6, 14.5)\n",
    "]\n",
    "\n",
    "jacobians = []\n",
    "\n",
    "for steady_state in steady_states:\n",
    "    j11 = float(f.diff(V).evalf(subs={V: steady_state[1], n: steady_state[0]}))\n",
    "    j12 = float(f.diff(n).evalf(subs={V: steady_state[1], n: steady_state[0]}))\n",
    "    j21 = float(g.diff(V).evalf(subs={V: steady_state[1], n: steady_state[0]}))\n",
    "    j22 = float(g.diff(n).evalf(subs={V: steady_state[1], n: steady_state[0]}))\n",
    "    \n",
    "    jacobian = np.array([\n",
    "        [j11, j12],\n",
    "        [j21, j22]\n",
    "    ])\n",
    "    \n",
    "    print(\"Steady state at n={}, V={}\".format(*steady_state))\n",
    "    print(\"=\"*20)\n",
    "    print(\"[-] Jacobian:\")\n",
    "    print(jacobian)\n",
    "    \n",
    "    print(\"[-] Eigenvalues\")\n",
    "    eigen_values = np.linalg.eig(jacobian)\n",
    "    print(eigen_values[0])"
   ]
  },
  {
   "cell_type": "code",
   "execution_count": null,
   "metadata": {
    "collapsed": true
   },
   "outputs": [],
   "source": []
  }
 ],
 "metadata": {
  "kernelspec": {
   "display_name": "Python 3",
   "language": "python",
   "name": "python3"
  },
  "language_info": {
   "codemirror_mode": {
    "name": "ipython",
    "version": 3
   },
   "file_extension": ".py",
   "mimetype": "text/x-python",
   "name": "python",
   "nbconvert_exporter": "python",
   "pygments_lexer": "ipython3",
   "version": "3.5.1"
  }
 },
 "nbformat": 4,
 "nbformat_minor": 0
}
